{
 "cells": [
  {
   "cell_type": "markdown",
   "metadata": {},
   "source": [
    "# Extract and store the stimulaiton data and an example trace\n",
    "The files *['localhost-20230824_115343', 'localhost-20230905_131313', 'localhost-20230905_115224']* must be in a *./data directory* relative to this notebook.\n",
    "\n",
    "Author: Bjarne Schultze <br>\n",
    "Last modified: 03.12.2023"
   ]
  },
  {
   "cell_type": "code",
   "execution_count": null,
   "metadata": {},
   "outputs": [],
   "source": [
    "import numpy as np\n",
    "import h5py\n",
    "import opto_analysis_fun as oafun"
   ]
  },
  {
   "cell_type": "code",
   "execution_count": null,
   "metadata": {},
   "outputs": [],
   "source": [
    "# List the files to use for plotting the stimulation protocols\n",
    "files = ['localhost-20230824_115343','localhost-20230905_131313','localhost-20230905_115224']  # red (high intensities), red (low intensities), green light (high intensities)\n",
    "# Load the calibration table for the LEDs and extract information for red and green light\n",
    "opto_cal = np.loadtxt('opto_calibration.txt', skiprows=1)\n",
    "cal_volt = opto_cal[:,0]\n",
    "stim_red = opto_cal[:,1:4].mean(axis=1)\n",
    "stim_green = opto_cal[:,4:].mean(axis=1)\n",
    "\n",
    "# Define list to collect the stimulation protocols\n",
    "stim_vec = []\n",
    "\n",
    "# Iterate over the given files\n",
    "for file in files:\n",
    "    # Load the current dataset\n",
    "    data_in = h5py.File('./data/'+file+'/'+file+'_daq.h5')\n",
    "    print(f'Working on file: {file}')\n",
    "    dataset = np.array(data_in['samples'])\n",
    "\n",
    "    # Get the sampling rate\n",
    "    sampling_rate = round(np.mean(data_in['samplenumber']))\n",
    "    # Create a time vector in minutes\n",
    "    time_vec = np.arange(0, dataset.shape[0]/sampling_rate, 1/sampling_rate) / 60\n",
    "\n",
    "    # Store the data of an example trace separately\n",
    "    if file == 'localhost-20230824_115343':\n",
    "        exp_data = dataset\n",
    "        exp_time = time_vec\n",
    "\n",
    "    # Close data file connection\n",
    "    data_in.close()\n",
    "\n",
    "    # Extract and analyze the light stimulus\n",
    "    light, stim_mode, stim_on, stim_off, stim_volt = oafun.analyze_light_stim(dataset[:,3:])\n",
    "\n",
    "    # Array with zeros to be filled with the light intensities (according to the calibration)\n",
    "    stim_intensity = np.zeros_like(light)\n",
    "    # Iterate over all stimuli (5 s pulses)\n",
    "    for on, off, volt in zip(stim_on, stim_off, stim_volt):\n",
    "        # Find the stimulus voltage among the calibration values\n",
    "        find_stim_volt = cal_volt == volt\n",
    "        # Fill the new array with the according light intensity \n",
    "        if stim_mode == 'activation':\n",
    "            stim_intensity[on:off] = stim_red[find_stim_volt]\n",
    "        elif stim_mode == 'inactivation':\n",
    "            stim_intensity[on:off] = stim_green[find_stim_volt]\n",
    "    \n",
    "    # Store the stimulus array (light intensities)\n",
    "    stim_vec.append(stim_intensity)"
   ]
  },
  {
   "cell_type": "code",
   "execution_count": null,
   "metadata": {},
   "outputs": [],
   "source": [
    "# Write data to hdf5 file for later usage\n",
    "f = h5py.File('stim_exp_data.hdf5', 'a')\n",
    "\n",
    "# Store the data\n",
    "f['stim_vec'] = stim_vec\n",
    "f['stim_time'] = time_vec\n",
    "f['example_trace'] = exp_data\n",
    "f['example_time'] = exp_time\n",
    "\n",
    "# Close the output file\n",
    "f.close()"
   ]
  }
 ],
 "metadata": {
  "language_info": {
   "name": "python"
  }
 },
 "nbformat": 4,
 "nbformat_minor": 2
}
