{
 "cells": [
  {
   "cell_type": "markdown",
   "metadata": {},
   "source": [
    "# Access and plot the 3D reconstructions of the wing motor neurons and potential song-circuit neurons\n",
    "For both the neurons and the neuropils, I found the right link to the precomputed volumes via Neuroglancer (e.g. [B2 MN via neuPrint+](https://neuprint.janelia.org/results?dataset=manc%3Av1.0&qt=findneurons&q=1&qr%5B0%5D%5Bcode%5D=fn&qr%5B0%5D%5Bds%5D=manc%3Av1.0&qr%5B0%5D%5Bpm%5D%5Bdataset%5D=manc%3Av1.0&qr%5B0%5D%5Bpm%5D%5Ball_segments%5D=false&qr%5B0%5D%5Bpm%5D%5Benable_contains%5D=true&qr%5B0%5D%5Bpm%5D%5Bneuron_name%5D=b2%20MN&qr%5B0%5D%5BvisProps%5D%5BrowsPerPage%5D=25&qr%5B1%5D%5Bcode%5D=ng&qr%5B1%5D%5Bds%5D=manc%3Av1.0&qr%5B1%5D%5Bpm%5D%5Bdataset%5D=manc%3Av1.0&qr%5B1%5D%5Bpm%5D%5Bskip%5D=true&qr%5B1%5D%5Bpm%5D%5BbodyIds%5D=10064&qr%5B2%5D%5Bcode%5D=sk&qr%5B2%5D%5Bds%5D=manc%3Av1.0&qr%5B2%5D%5Bpm%5D%5Bdataset%5D=manc%3Av1.0&qr%5B2%5D%5Bpm%5D%5Bskip%5D=true&qr%5B2%5D%5Bpm%5D%5BbodyIds%5D%5B0%5D=10064&qr%5B2%5D%5Bpm%5D%5Bcoordinates%5D=33687.56576720625%2C29580.296815531947%2C4277.065579838272%2C33687.56576720625%2C29580.296815531947%2C42758.94923094767&tab=1&ftab=)). In the Neuroglancer window right-click on the box that says '2 manc:v1.0' in the top left corner. A panel opens on the right and in the 'Source' tab the link to the precomputed volumes is provided. \n",
    "It works the same for the neuropils. Just right-click on the box '5 neuropils' and the link is provided in the panel on the right. Under the 'Seg.' tab this panel also provides the IDs for the different neuropils, which you will need for automated downloading.\n",
    "\n",
    "This notbook creates differnt 3D plots with the wing motor neurons and the potential song-circuit neurons as well as some neuropils. The 3D reconstructions are loaded from the hard-drive if possible or downloaded otherwise. \n",
    "\n",
    "Author: Bjarne Schultze <br>\n",
    "last modified: 01.12.2023"
   ]
  },
  {
   "cell_type": "code",
   "execution_count": 1,
   "metadata": {},
   "outputs": [
    {
     "name": "stderr",
     "output_type": "stream",
     "text": [
      "c:\\Users\\schul\\anaconda3\\envs\\rms_analysis\\lib\\site-packages\\python_jsonschema_objects\\__init__.py:113: UserWarning: Schema id not specified. Defaulting to 'self'\n",
      "  warnings.warn(\"Schema id not specified. Defaulting to 'self'\")\n",
      "INFO  : cloud-volume successfully patched! (navis)\n"
     ]
    }
   ],
   "source": [
    "import pandas as pd\n",
    "import numpy as np\n",
    "from matplotlib import colors\n",
    "import plotly\n",
    "\n",
    "# Re-create deprecated aliases which are necessary for the navis module\n",
    "np.int = np.int_\n",
    "np.bool = np.bool_\n",
    "import navis.interfaces.neuprint as neu\n",
    "import navis\n",
    "\n",
    "import neuron_loading_3d as nload"
   ]
  },
  {
   "cell_type": "markdown",
   "metadata": {},
   "source": [
    "##### Load the necessary data"
   ]
  },
  {
   "cell_type": "code",
   "execution_count": 6,
   "metadata": {},
   "outputs": [],
   "source": [
    "# Load the neuron property table\n",
    "neuron_props = pd.read_pickle(\"neuron_prop_table.pkl\")\n",
    "# Load the neuron ID dictionary\n",
    "neuron_ID_dict = np.load('./neuron_ID_dict.npy', allow_pickle=True).item()"
   ]
  },
  {
   "cell_type": "code",
   "execution_count": 3,
   "metadata": {},
   "outputs": [
    {
     "data": {
      "application/vnd.jupyter.widget-view+json": {
       "model_id": "7936acd6dd934c28abb4bc1860524800",
       "version_major": 2,
       "version_minor": 0
      },
      "text/plain": [
       "Importing:   0%|          | 0/68 [00:00<?, ?it/s]"
      ]
     },
     "metadata": {},
     "output_type": "display_data"
    },
    {
     "data": {
      "application/vnd.jupyter.widget-view+json": {
       "model_id": "887323faf0c243b4a2b6a5ccaff495ee",
       "version_major": 2,
       "version_minor": 0
      },
      "text/plain": [
       "Importing:   0%|          | 0/6 [00:00<?, ?it/s]"
      ]
     },
     "metadata": {},
     "output_type": "display_data"
    }
   ],
   "source": [
    "# Load the 3D neuron reconstructions\n",
    "mn_meshes = nload.load_neurons(neuron_props['bodyId'], neuron_ID_dict)\n",
    "\n",
    "# Load the 3D roi reconstructions\n",
    "roi_ID_dict = {13:\"IntTct\",14:\"LTct\",17:\"WTct (L)\",18:\"WTct (R)\",19:\"HTct (L)\",20:\"HTct (R)\"}\n",
    "roi_meshes = nload.load_rois(list(roi_ID_dict.keys()), roi_ID_dict)"
   ]
  },
  {
   "cell_type": "markdown",
   "metadata": {},
   "source": [
    "##### 3D plot showing the neurons (potential song circuit neuorns highlighted)"
   ]
  },
  {
   "cell_type": "code",
   "execution_count": 5,
   "metadata": {},
   "outputs": [
    {
     "name": "stderr",
     "output_type": "stream",
     "text": [
      "INFO  : Use the `.show()` method to plot the figure. (navis)\n"
     ]
    }
   ],
   "source": [
    "# Define a set of colors\n",
    "cmap_colors = ['firebrick','darkturquoise','limegreen','royalblue','hotpink','lightskyblue','gold','purple','slategray','tomato','yellowgreen','plum','gray',\n",
    "                'deepskyblue','aqua','darkorchid','darkblue','olivedrab','wheat','lightcyan','seagreen','bisque']\n",
    "# Link colors and cell types (ensures same colors for same neuron type)\n",
    "color_dict = dict(zip(np.unique(mn_meshes.name),cmap_colors))\n",
    "# Create a list of colors for the 3D plot\n",
    "neuron_cmap = []\n",
    "for cell in mn_meshes.name:\n",
    "    if any([check in cell for check in ['dPR1','TN1a','vPR6','pIP10']]):\n",
    "        neuron_cmap.append(colors.to_rgba(color_dict[cell]))\n",
    "    else:\n",
    "        neuron_cmap.append([0.4,0.7,0.9,0.2])\n",
    "\n",
    "# Plot the neurons\n",
    "fig3d = navis.plot3d(mn_meshes, color=neuron_cmap, width=1200, height=800, inline=False)\n",
    "# Remove legend entries for motor neurons\n",
    "check_list = ['dPR1','TN1a','vPR6','pIP10']\n",
    "for neuron in fig3d['data']:\n",
    "    if not any([check in neuron.name for check in check_list]):\n",
    "        neuron['showlegend'] = False\n",
    "    else:\n",
    "        check_list.remove(neuron.name)\n",
    "\n",
    "# Save the plot as a html file \n",
    "_ = plotly.offline.plot(fig3d, filename='3d_neurons.html')\n",
    "# fig3d.show()      # Uncomment for inline rendering, could make notebook very slow"
   ]
  },
  {
   "cell_type": "markdown",
   "metadata": {},
   "source": [
    "##### 3D plot all neurons in different colors and show the relevalt neuropils"
   ]
  },
  {
   "cell_type": "code",
   "execution_count": 38,
   "metadata": {},
   "outputs": [
    {
     "name": "stderr",
     "output_type": "stream",
     "text": [
      "INFO  : Use the `.show()` method to plot the figure. (navis)\n"
     ]
    }
   ],
   "source": [
    "# Define colors for the ROIs (with transparency)\n",
    "alpha = 0.4\n",
    "roi_colors = [(0.1,0.9,0.8,alpha), (0.3,0.2,0.9,alpha), (0.9,0.4,0.2,alpha), (0.9,0.8,0.2,alpha), (0.8,0.2,0.9,alpha), (0.3,0.7,0.1,alpha)]\n",
    "\n",
    "# Link colors and cell types (ensures same colors for same neuron type)\n",
    "color_dict = dict(zip(neuron_props[\"type\"].unique(),cmap_colors))\n",
    "# Create a list of colors for the 3D plot\n",
    "neuron_cmap = [ colors.to_rgba(color_dict[cell]) for cell in mn_meshes.name ]\n",
    "\n",
    "# Combine ROI and neuron colors\n",
    "[roi_colors.append(i) for i in neuron_cmap]\n",
    "# Plot the neurons and the neuropils (ROIs)\n",
    "fig3d = navis.plot3d([roi_meshes,mn_meshes], color=roi_colors, width=1200, height=800, inline=False)\n",
    "\n",
    "# Reduce legend entries to one per neuorn type\n",
    "check_list = []\n",
    "for neuron in fig3d['data']:\n",
    "    if any([check in neuron.name for check in check_list]):\n",
    "        neuron['showlegend'] = False\n",
    "    else:\n",
    "        check_list.append(neuron.name)\n",
    "\n",
    "# Save the plot as a html file and show it inline nevertheless\n",
    "_ = plotly.offline.plot(fig3d, filename='3d_motorneurons_neuropils.html')\n",
    "# fig3d.show()      # Uncomment for inline rendering, could make notebook very slow"
   ]
  },
  {
   "cell_type": "markdown",
   "metadata": {},
   "source": [
    "#### Same visualization using the neuprint interface\n",
    "Gives the same result after scaling but has the disadvantage that the neuropils cannot be hidden via the interactive figure legend.\n",
    "\n",
    "For this to work you need an individual neuprint+ token which can be found in the *Account* section on the [neurprint+ website](https://neuprint.janelia.org/) after loggin in. "
   ]
  },
  {
   "cell_type": "code",
   "execution_count": null,
   "metadata": {},
   "outputs": [],
   "source": [
    "# Store individual neuPrint token\n",
    "neuprint_token = \"\"\n",
    "\n",
    "# Only continue if token was provided\n",
    "if len(neuprint_token) > 0:\n",
    "    # Creat neuPrint clienthttps://neuprint.janelia.org/\n",
    "    neuprint_client = neu.Client('', dataset='manc:v1.0', token=neuprint_token)\n",
    "\n",
    "    # Fetch ROIs\n",
    "    neuropils = [neu.fetch_roi(\"WTct(UTct-T2)(L)\"),neu.fetch_roi(\"WTct(UTct-T2)(R)\"),neu.fetch_roi(\"IntTct\"),\n",
    "                 neu.fetch_roi(\"LTct\"),neu.fetch_roi(\"HTct(UTct-T3)(L)\"),neu.fetch_roi(\"HTct(UTct-T3)(R)\")]\n",
    "    # Apply scaling factor to match the scale of the neurons\n",
    "    neuropils = [ neuropils[i] * 8 for i in range(len(neuropils)) ]\n",
    "\n",
    "    # Color the neuropils with the defined colors\n",
    "    for i in range(len(neuropils)):\n",
    "        neuropils[i].color = roi_colors[i]\n",
    "else:\n",
    "    print('Please provide a neuprint token to proceed!')"
   ]
  },
  {
   "cell_type": "code",
   "execution_count": null,
   "metadata": {},
   "outputs": [],
   "source": [
    "# Create a 3D plot of the neurons and the neuropils\n",
    "navis.plot3d([neuropils,mn_meshes], color=roi_colors[-len(mn_meshes):], width=1000, height=800)"
   ]
  }
 ],
 "metadata": {
  "kernelspec": {
   "display_name": "Python 3 (ipykernel)",
   "language": "python",
   "name": "python3"
  },
  "language_info": {
   "codemirror_mode": {
    "name": "ipython",
    "version": 3
   },
   "file_extension": ".py",
   "mimetype": "text/x-python",
   "name": "python",
   "nbconvert_exporter": "python",
   "pygments_lexer": "ipython3",
   "version": "3.9.18"
  }
 },
 "nbformat": 4,
 "nbformat_minor": 4
}
